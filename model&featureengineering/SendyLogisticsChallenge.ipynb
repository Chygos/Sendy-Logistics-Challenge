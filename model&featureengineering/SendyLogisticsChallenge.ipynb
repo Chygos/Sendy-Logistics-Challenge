{
  "nbformat": 4,
  "nbformat_minor": 0,
  "metadata": {
    "colab": {
      "name": "SendyLogisticsChallenge.ipynb",
      "provenance": [],
      "collapsed_sections": []
    },
    "kernelspec": {
      "name": "python3",
      "display_name": "Python 3"
    },
    "language_info": {
      "codemirror_mode": {
        "name": "ipython",
        "version": 3
      },
      "file_extension": ".py",
      "mimetype": "text/x-python",
      "name": "python",
      "nbconvert_exporter": "python",
      "pygments_lexer": "ipython3",
      "version": "3.7.1"
    }
  },
  "cells": [
    {
      "cell_type": "code",
      "metadata": {
        "colab_type": "code",
        "id": "ldIhtVcivm36",
        "colab": {}
      },
      "source": [
        "!pip install category_encoders\n",
        "!pip install catboost\n",
        "!pip install vincenty"
      ],
      "execution_count": 0,
      "outputs": []
    },
    {
      "cell_type": "code",
      "metadata": {
        "colab_type": "code",
        "id": "v-A9WXLdu4H_",
        "colab": {}
      },
      "source": [
        "import pandas as pd\n",
        "import numpy as np\n",
        "import category_encoders as ce\n",
        "import matplotlib.pyplot as plt \n",
        "from sklearn.model_selection import KFold\n",
        "from sklearn.metrics import mean_squared_error\n",
        "from sklearn.metrics import r2_score\n",
        "from xgboost import XGBRegressor\n",
        "from catboost import CatBoostRegressor\n",
        "from shapely.geometry import Point\n",
        "from shapely.geometry.polygon import Polygon\n",
        "from sklearn.ensemble import BaggingClassifier"
      ],
      "execution_count": 0,
      "outputs": []
    },
    {
      "cell_type": "code",
      "metadata": {
        "colab_type": "code",
        "id": "d6e4x2fou4IC",
        "scrolled": true,
        "colab": {}
      },
      "source": [
        "train = pd.read_csv(\"drive/My Drive/TrainZindi.csv\")\n",
        "test = pd.read_csv(\"drive/My Drive/TestZindi.csv\")\n",
        "Submission = pd.read_csv(\"drive/My Drive/SampleSubmissionZindi.csv\")\n",
        "riders = pd.read_csv(\"drive/My Drive/Riders.csv\")\n",
        "uber_data = pd.read_csv(\"drive/My Drive/Nairobi/Q1-2019.csv\")\n",
        "subloc = pd.read_json(\"drive/My Drive/nairobi_sublocations.json\")\n",
        "openrdatatrain = pd.read_csv(\"drive/My Drive/trainRoot.csv\")\n",
        "opdatatest = pd.read_csv(\"drive/My Drive/testRoot.csv\")\n",
        "uber_data_weekdays=pd.read_csv('drive/My Drive/Nairobi/uber_weekdays_hourly_q1.csv')\n",
        "uber_data_weekends=pd.read_csv('drive/My Drive/Nairobi/uber_weekends_hourly_q1.csv')"
      ],
      "execution_count": 0,
      "outputs": []
    },
    {
      "cell_type": "code",
      "metadata": {
        "colab_type": "code",
        "id": "o9kgjPnyzJ4v",
        "colab": {}
      },
      "source": [
        "train['ORIGIN_MOVEMENT_ID']=-1\n",
        "train['DESTINATION_MOVEMENT_ID']=-1"
      ],
      "execution_count": 0,
      "outputs": []
    },
    {
      "cell_type": "code",
      "metadata": {
        "colab_type": "code",
        "id": "RFJtcsRWzP3c",
        "colab": {}
      },
      "source": [
        "for i in range(len(train)):\n",
        "    pointpickup = Point(train.loc[i,'Pickup Long'],train.loc[i,'Pickup Lat'])\n",
        "    pointdest = Point(train.loc[i,'Destination Long'],train.loc[i,'Destination Lat'])\n",
        "    j = 0\n",
        "    for j in range(len(subloc)):        \n",
        "        if (Polygon(subloc['features'][j]['geometry']['coordinates'][0]).contains(pointpickup)):\n",
        "            train.loc[i,'ORIGIN_MOVEMENT_ID'] = subloc.features[j]['properties']['MOVEMENT_ID']\n",
        "            train.loc[i,'Origin_Place'] = subloc.features[j]['properties']['DISPLAY_NAME']\n",
        "        if (Polygon(subloc['features'][j]['geometry']['coordinates'][0]).contains(pointdest)):\n",
        "            train.loc[i,'DESTINATION_MOVEMENT_ID'] = subloc.features[j]['properties']['MOVEMENT_ID']\n",
        "            train.loc[i,'Destination_Place'] = subloc.features[j]['properties']['DISPLAY_NAME']"
      ],
      "execution_count": 0,
      "outputs": []
    },
    {
      "cell_type": "code",
      "metadata": {
        "colab_type": "code",
        "id": "b_Bjo8mDzSG3",
        "colab": {}
      },
      "source": [
        "test['ORIGIN_MOVEMENT_ID']=-1\n",
        "test['DESTINATION_MOVEMENT_ID']=-1"
      ],
      "execution_count": 0,
      "outputs": []
    },
    {
      "cell_type": "code",
      "metadata": {
        "colab_type": "code",
        "id": "u0pIALjLzSkT",
        "colab": {}
      },
      "source": [
        "for i in range(len(test)):\n",
        "    pointpickup = Point(test.loc[i,'Pickup Long'],test.loc[i,'Pickup Lat'])\n",
        "    pointdest = Point(test.loc[i,'Destination Long'],test.loc[i,'Destination Lat'])\n",
        "    j = 0\n",
        "    for j in range(len(subloc)):        \n",
        "        if (Polygon(subloc['features'][j]['geometry']['coordinates'][0]).contains(pointpickup)):\n",
        "            test.loc[i,'ORIGIN_MOVEMENT_ID'] = subloc.features[j]['properties']['MOVEMENT_ID']\n",
        "            test.loc[i,'Origin_Place'] = subloc.features[j]['properties']['DISPLAY_NAME']\n",
        "        if (Polygon(subloc['features'][j]['geometry']['coordinates'][0]).contains(pointdest)):\n",
        "            test.loc[i,'DESTINATION_MOVEMENT_ID'] = subloc.features[j]['properties']['MOVEMENT_ID']\n",
        "            test.loc[i,'Destination_Place'] = subloc.features[j]['properties']['DISPLAY_NAME']  \n",
        "          "
      ],
      "execution_count": 0,
      "outputs": []
    },
    {
      "cell_type": "code",
      "metadata": {
        "colab_type": "code",
        "id": "MUKwjxWmu4IH",
        "colab": {}
      },
      "source": [
        "train.drop(['Vehicle Type'],axis=1,inplace=True)\n",
        "train.columns"
      ],
      "execution_count": 0,
      "outputs": []
    },
    {
      "cell_type": "code",
      "metadata": {
        "colab_type": "code",
        "id": "9w2clTJ0u4IJ",
        "colab": {}
      },
      "source": [
        "train = pd.merge(train,riders,on='Rider Id',how='left')\n",
        "test = pd.merge(test,riders,on='Rider Id',how='left')\n",
        "train['Time_from_Pickup_to_Arrival_Minutes'] = train['Time from Pickup to Arrival']/60\n",
        "train['Speed_Meter_per_Second'] = (train['Distance (KM)']*1000)/train['Time from Pickup to Arrival']\n",
        "OutliersTrain = train[(train.Speed_Meter_per_Second>=18)]#|(train.Speed_Meter_per_Second<=2)]\n",
        "OutlierFreeTrain = train[~(train['Order No'].isin(OutliersTrain['Order No']))]\n",
        "riders['WrongOrders'] = riders['Rider Id'].map(OutliersTrain.groupby('Rider Id').agg('count')['Order No'])\n",
        "riders.WrongOrders.fillna(value=0,inplace=True)\n",
        "train['Total_Orders'] = train['Rider Id'].map(train.groupby('Rider Id').agg('count')['Order No'])\n",
        "train = pd.merge(train,riders.drop(['No_of_Ratings','Average_Rating','Age','No_Of_Orders'],axis=1),on='Rider Id',how='left')\n",
        "test = pd.merge(test,riders.drop(['No_of_Ratings','Average_Rating','Age','No_Of_Orders'],axis=1),on='Rider Id',how='left')\n",
        "train['Average_Rider_Speed'] = train['Rider Id'].map(OutlierFreeTrain.groupby('Rider Id').Speed_Meter_per_Second.mean())\n",
        "test['Average_Rider_Speed'] =test['Rider Id'].map(OutlierFreeTrain.groupby('Rider Id').Speed_Meter_per_Second.mean())\n",
        "train['error_rate_rider'] = train['WrongOrders']/train['Total_Orders']\n",
        "test['WrongOrders'] = test['Rider Id'].map(riders.groupby('Rider Id').agg('sum').WrongOrders)\n",
        "test['Total_Orders'] = test['Rider Id'].map(train.groupby('Rider Id').agg('count')['Order No'])\n",
        "test['error_rate_rider'] = test.WrongOrders/test.Total_Orders\n",
        "test.WrongOrders.fillna(value=train.WrongOrders.mean(),inplace=True)\n",
        "test.error_rate_rider.fillna(value=train.error_rate_rider.mean(),inplace=True)\n",
        "test.Total_Orders.fillna(value=0,inplace=True)\n",
        "train.WrongOrders.fillna(value=train.WrongOrders.mean(),inplace=True)\n",
        "train.error_rate_rider.fillna(value=train.error_rate_rider.mean(),inplace=True)\n",
        "train.Total_Orders.fillna(value=0,inplace=True)\n",
        "test.Average_Rider_Speed.fillna(value=OutlierFreeTrain.Speed_Meter_per_Second.mean(),inplace=True)"
      ],
      "execution_count": 0,
      "outputs": []
    },
    {
      "cell_type": "code",
      "metadata": {
        "colab_type": "code",
        "id": "KwQrMgyAu4IL",
        "colab": {}
      },
      "source": [
        "train['RatingFactor_Rider'] = train['Average_Rating']*train['No_of_Ratings']\n",
        "test['RatingFactor_Rider'] = test['Average_Rating']*test['No_of_Ratings']\n",
        "train['Productivity_Rider'] = train['Age']/train['No_Of_Orders']\n",
        "test['Productivity_Rider'] = test['Age']/test['No_Of_Orders']"
      ],
      "execution_count": 0,
      "outputs": []
    },
    {
      "cell_type": "code",
      "metadata": {
        "colab_type": "code",
        "id": "JG22jXFJIBX6",
        "colab": {}
      },
      "source": [
        "classifytrain = train.copy()\n",
        "classifytest = test.copy()\n",
        "classifytrain.rename({'Arrival at Destination - Day of Month':'Day_of_month','Arrival at Destination - Weekday (Mo = 1)':'Weekday'},axis=1,inplace=True)\n",
        "classifytest.rename({'Arrival at Pickup - Day of Month':'Day_of_month','Arrival at Pickup - Weekday (Mo = 1)':'Weekday'},axis=1,inplace=True)\n",
        "classifytrain['Confirmation - Time']=pd.to_datetime(classifytrain['Confirmation - Time'])\n",
        "classifytrain['Placement - Time']=pd.to_datetime(classifytrain['Placement - Time'])\n",
        "classifytrain['Pickup - Time'] = pd.to_datetime(classifytrain['Pickup - Time'])\n",
        "classifytrain['Arrival at Pickup - Time'] = pd.to_datetime(classifytrain['Arrival at Pickup - Time'])\n",
        "classifytest['Confirmation - Time']=pd.to_datetime(classifytest['Confirmation - Time'])\n",
        "classifytest['Placement - Time']=pd.to_datetime(classifytest['Placement - Time'])\n",
        "classifytest['Pickup - Time'] = pd.to_datetime(classifytest['Pickup - Time'])\n",
        "classifytest['Arrival at Pickup - Time'] = pd.to_datetime(classifytest['Arrival at Pickup - Time'])\n",
        "classifytrain['Placement_Time - Confirmation'] = (classifytrain['Confirmation - Time'] - classifytrain['Placement - Time']).astype('timedelta64[s]')\n",
        "classifytrain['Confirmation - Arrival_Pickup'] = (classifytrain['Arrival at Pickup - Time']-classifytrain['Confirmation - Time']).astype('timedelta64[s]')\n",
        "classifytrain['Arrival at Pickup - Pickup'] = (classifytrain['Pickup - Time']-classifytrain['Arrival at Pickup - Time']).astype('timedelta64[s]')\n",
        "classifytest['Placement_Time - Confirmation'] = (classifytest['Confirmation - Time'] - classifytest['Placement - Time']).astype('timedelta64[s]')\n",
        "classifytest['Confirmation - Arrival_Pickup'] = (classifytest['Arrival at Pickup - Time']-classifytest['Confirmation - Time']).astype('timedelta64[s]')\n",
        "classifytest['Arrival at Pickup - Pickup'] = (classifytest['Pickup - Time']-classifytest['Arrival at Pickup - Time']).astype('timedelta64[s]')"
      ],
      "execution_count": 0,
      "outputs": []
    },
    {
      "cell_type": "code",
      "metadata": {
        "colab_type": "code",
        "id": "Zx08zBLzu4IP",
        "colab": {}
      },
      "source": [
        "## a tester avec classification et sans\n",
        "train['Placement_Time - Confirmation'] = classifytrain['Placement_Time - Confirmation']\n",
        "train['Confirmation - Arrival_Pickup'] = classifytrain['Confirmation - Arrival_Pickup']\n",
        "train['Arrival at Pickup - Pickup'] = classifytrain['Arrival at Pickup - Pickup']\n",
        "test['Placement_Time - Confirmation'] = classifytest['Placement_Time - Confirmation']\n",
        "test['Confirmation - Arrival_Pickup'] = classifytest['Confirmation - Arrival_Pickup']\n",
        "test['Arrival at Pickup - Pickup'] = classifytest['Arrival at Pickup - Pickup']"
      ],
      "execution_count": 0,
      "outputs": []
    },
    {
      "cell_type": "code",
      "metadata": {
        "colab_type": "code",
        "id": "9JigT477u4IQ",
        "colab": {}
      },
      "source": [
        "train['pos_pickup'] = train['Pickup Long'].apply(str)+'_'+train['Pickup Lat'].apply(str)\n",
        "train['pos_dest'] = train['Destination Long'].apply(str)+'_'+train['Pickup Lat'].apply(str)\n",
        "test['pos_pickup'] = test['Pickup Long'].apply(str)+'_'+test['Pickup Lat'].apply(str)\n",
        "test['pos_dest'] = test['Destination Long'].apply(str)+'_'+test['Pickup Lat'].apply(str)\n",
        "train['from_to']= train['pos_pickup']+'_'+train['pos_dest']\n",
        "test['from_to']= test['pos_pickup']+'_'+test['pos_dest']"
      ],
      "execution_count": 0,
      "outputs": []
    },
    {
      "cell_type": "code",
      "metadata": {
        "colab_type": "code",
        "id": "NKoDaXI1u4IU",
        "colab": {}
      },
      "source": [
        "def not_weekend(x):\n",
        "  if x<=5:\n",
        "    return 1\n",
        "  else :\n",
        "    return 0\n",
        "train[\"not_weekend\"] = train[\"Placement - Weekday (Mo = 1)\"].apply(not_weekend)\n",
        "test[\"not_weekend\"] = test[\"Placement - Weekday (Mo = 1)\"].apply(not_weekend)"
      ],
      "execution_count": 0,
      "outputs": []
    },
    {
      "cell_type": "code",
      "metadata": {
        "colab_type": "code",
        "id": "qx1_c2KCu4IY",
        "colab": {}
      },
      "source": [
        "def quarter_of_month(x):\n",
        "  if x>=1 and x<=7:\n",
        "    return 1\n",
        "  elif x>7 and x<=14:\n",
        "    return 2\n",
        "  elif x>14 and x<=21:\n",
        "    return 3\n",
        "  else:\n",
        "    return 4\n",
        "train[\"Placement - Day of Month_quarter_of_month\"] = train[\"Placement - Day of Month\"].apply(quarter_of_month)\n",
        "test[\"Placement - Day of Month_quarter_of_month\"] = test[\"Placement - Day of Month\"].apply(quarter_of_month) "
      ],
      "execution_count": 0,
      "outputs": []
    },
    {
      "cell_type": "code",
      "metadata": {
        "colab_type": "code",
        "id": "BNByG_HBu4Ib",
        "colab": {}
      },
      "source": [
        "train['Pickup - Time'] = pd.to_datetime(train['Pickup - Time'])\n",
        "test['Pickup - Time'] = pd.to_datetime(test['Pickup - Time'])\n",
        "train['Pickup_Hour'] = train['Pickup - Time'].dt.hour\n",
        "test['Pickup_Hour'] = test['Pickup - Time'].dt.hour"
      ],
      "execution_count": 0,
      "outputs": []
    },
    {
      "cell_type": "code",
      "metadata": {
        "colab_type": "code",
        "id": "lsGNDeehu4Ie",
        "colab": {}
      },
      "source": [
        "train.loc[(train['Pickup_Hour']>=7)&(train['Pickup_Hour']<9),'DayTime']= 'Rush_Hour1'\n",
        "train.loc[(train['Pickup_Hour']>=9)&(train['Pickup_Hour']<=11),'DayTime']= 'Matin'\n",
        "train.loc[(train['Pickup_Hour']>11)&(train['Pickup_Hour']<=13),'DayTime']= '9ayla'\n",
        "train.loc[(train['Pickup_Hour']>13)&(train['Pickup_Hour']<17),'DayTime']= 'ApresMidi'\n",
        "train.loc[(train['Pickup_Hour']>=17)&(train['Pickup_Hour']<=19),'DayTime']= 'Rush_Hour2'\n",
        "train.loc[(train['Pickup_Hour']>19)&(train['Pickup_Hour']<7),'DayTime']= 'Night'\n",
        "test.loc[(test['Pickup_Hour']>=7)&(test['Pickup_Hour']<9),'DayTime']= 'Rush_Hour1'\n",
        "test.loc[(test['Pickup_Hour']>=9)&(test['Pickup_Hour']<=11),'DayTime']= 'Matin'\n",
        "test.loc[(test['Pickup_Hour']>11)&(test['Pickup_Hour']<=13),'DayTime']= '9ayla'\n",
        "test.loc[(test['Pickup_Hour']>13)&(test['Pickup_Hour']<=16),'DayTime']= 'ApresMidi'\n",
        "test.loc[(test['Pickup_Hour']>16)&(test['Pickup_Hour']<=21),'DayTime']= 'Night'\n",
        "test.loc[(test['Pickup_Hour']>=17)&(test['Pickup_Hour']<=19),'DayTime']= 'Rush_Hour2'"
      ],
      "execution_count": 0,
      "outputs": []
    },
    {
      "cell_type": "code",
      "metadata": {
        "colab_type": "code",
        "id": "9piVfFCI17T6",
        "colab": {}
      },
      "source": [
        "train.rename({\"ORIGIN_MOVEMENT_ID\":\"sourceid\",\"DESTINATION_MOVEMENT_ID\":\"dstid\",\"Pickup_Hour\":\"hod\"},inplace=True,axis=1)\n",
        "test.rename({\"ORIGIN_MOVEMENT_ID\":\"sourceid\",\"DESTINATION_MOVEMENT_ID\":\"dstid\",\"Pickup_Hour\":\"hod\"},inplace=True,axis=1)"
      ],
      "execution_count": 0,
      "outputs": []
    },
    {
      "cell_type": "code",
      "metadata": {
        "colab_type": "code",
        "id": "Ivt26L3-MNPo",
        "colab": {}
      },
      "source": [
        "train = pd.merge(train,uber_data, on=['sourceid', 'dstid','hod'],how=\"left\")\n",
        "test = pd.merge(test,uber_data, on=['sourceid', 'dstid','hod'],how=\"left\")"
      ],
      "execution_count": 0,
      "outputs": []
    },
    {
      "cell_type": "code",
      "metadata": {
        "colab_type": "code",
        "id": "ebmlACueu4Ih",
        "colab": {}
      },
      "source": [
        "data = [train, test]\n",
        "for dataset in data:\n",
        "    dataset.loc[ (dataset['hod'] < 13) , 'AM_PM'] = 'AM'\n",
        "    dataset.loc[(dataset['hod'] >= 13) , 'AM_PM'] = 'PM'"
      ],
      "execution_count": 0,
      "outputs": []
    },
    {
      "cell_type": "code",
      "metadata": {
        "colab_type": "code",
        "id": "r_7j1kfLu4Ij",
        "colab": {}
      },
      "source": [
        "train['Daytime_Day'] = train['DayTime']+'_'+train['Placement - Weekday (Mo = 1)'].apply(str)\n",
        "test['Daytime_Day'] = test['DayTime']+'_'+test['Placement - Weekday (Mo = 1)'].apply(str)"
      ],
      "execution_count": 0,
      "outputs": []
    },
    {
      "cell_type": "code",
      "metadata": {
        "colab_type": "code",
        "id": "58oShCFyQx8w",
        "colab": {}
      },
      "source": [
        "from geopy.distance import vincenty\n",
        "train[\"Minimum_distance_frompick_to_arrival\"] = train.apply(lambda x: vincenty((x[\"Pickup Lat\"], x[\"Pickup Long\"]), (x[\"Destination Lat\"], x[\"Destination Long\"])).kilometers, axis = 1)\n",
        "test[\"Minimum_distance_frompick_to_arrival\"] = test.apply(lambda x: vincenty((x[\"Pickup Lat\"], x[\"Pickup Long\"]), (x[\"Destination Lat\"], x[\"Destination Long\"])).kilometers, axis = 1)\n",
        "train[\"Distance-Minimum Distance\"] = train[\"Distance (KM)\"] - train[\"Minimum_distance_frompick_to_arrival\"]\n",
        "test[\"Distance-Minimum Distance\"] = test[\"Distance (KM)\"] - test[\"Minimum_distance_frompick_to_arrival\"]\n",
        "train.drop(\"Minimum_distance_frompick_to_arrival\",axis=1,inplace=True)\n",
        "test.drop(\"Minimum_distance_frompick_to_arrival\",axis=1,inplace=True)"
      ],
      "execution_count": 0,
      "outputs": []
    },
    {
      "cell_type": "code",
      "metadata": {
        "colab_type": "code",
        "id": "hmEw8JZdu4Iw",
        "colab": {}
      },
      "source": [
        "from vincenty import vincenty\n",
        "JK = (-1.323053, 36.921824)\n",
        "Wilson = (-1.321358, 36.815189)\n",
        "Jogoo_Road = (-1.297140, 36.864817)\n",
        "Langata_Road = (-1.312558, 36.816135)\n",
        "Ngong_Road = (-1.335589, 36.672402)\n",
        "Nairobi_Center =(-1.286389, 36.817223)\n",
        "Parklands = (-1.261306, 36.816227)"
      ],
      "execution_count": 0,
      "outputs": []
    },
    {
      "cell_type": "code",
      "metadata": {
        "id": "PCmusWOPlUsf",
        "colab_type": "code",
        "colab": {}
      },
      "source": [
        "train[\"Pickup_Distance_To_JK\"] = train.apply(lambda row:vincenty((row[\"Pickup Lat\"],row[\"Pickup Long\"]),JK),axis=1)\n",
        "train[\"Pickup_Distance_To_Wilson\"] = train.apply(lambda row:vincenty((row[\"Pickup Lat\"],row[\"Pickup Long\"]),Wilson),axis=1)\n",
        "train[\"Pickup_Distance_To_Jogoo_Road\"] = train.apply(lambda row:vincenty((row[\"Pickup Lat\"],row[\"Pickup Long\"]),Jogoo_Road),axis=1)\n",
        "train[\"Pickup_Distance_To_Langata_Road\"] = train.apply(lambda row:vincenty((row[\"Pickup Lat\"],row[\"Pickup Long\"]),Langata_Road),axis=1)\n",
        "train[\"Pickup_Distance_To_Ngong_Road\"] = train.apply(lambda row:vincenty((row[\"Pickup Lat\"],row[\"Pickup Long\"]),Ngong_Road),axis=1)\n",
        "train[\"Pickup_Distance_To_Nairobi_Center\"] = train.apply(lambda row:vincenty((row[\"Pickup Lat\"],row[\"Pickup Long\"]),Nairobi_Center),axis=1)\n",
        "train[\"Pickup_Distance_To_Parklands\"] = train.apply(lambda row:vincenty((row[\"Pickup Lat\"],row[\"Pickup Long\"]),Parklands),axis=1)\n",
        "train[\"Destination_Distance_To_JK\"] = train.apply(lambda row:vincenty((row[\"Destination Lat\"],row[\"Destination Long\"]),JK),axis=1)\n",
        "train[\"Destination_Distance_To_Wilson\"] = train.apply(lambda row:vincenty((row[\"Destination Lat\"],row[\"Destination Long\"]),Wilson),axis=1)\n",
        "train[\"Destination_Distance_To_Jogoo_Road\"] = train.apply(lambda row:vincenty((row[\"Destination Lat\"],row[\"Destination Long\"]),Jogoo_Road),axis=1)\n",
        "train[\"Destination_Distance_To_Langata_Road\"] = train.apply(lambda row:vincenty((row[\"Destination Lat\"],row[\"Destination Long\"]),Langata_Road),axis=1)\n",
        "train[\"Destination_Distance_To_Ngong_Road\"] = train.apply(lambda row:vincenty((row[\"Destination Lat\"],row[\"Destination Long\"]),Ngong_Road),axis=1)\n",
        "train[\"Destination_Distance_To_Nairobi_Center\"] = train.apply(lambda row:vincenty((row[\"Destination Lat\"],row[\"Destination Long\"]),Nairobi_Center),axis=1)\n",
        "train[\"Destination_Distance_To_Parklands\"] = train.apply(lambda row:vincenty((row[\"Destination Lat\"],row[\"Destination Long\"]),Parklands),axis=1)\n"
      ],
      "execution_count": 0,
      "outputs": []
    },
    {
      "cell_type": "code",
      "metadata": {
        "id": "6TWh9Qadn03i",
        "colab_type": "code",
        "colab": {}
      },
      "source": [
        "test[\"Pickup_Distance_To_JK\"] = test.apply(lambda row:vincenty((row[\"Pickup Lat\"],row[\"Pickup Long\"]),JK),axis=1)\n",
        "test[\"Pickup_Distance_To_Wilson\"] = test.apply(lambda row:vincenty((row[\"Pickup Lat\"],row[\"Pickup Long\"]),Wilson),axis=1)\n",
        "test[\"Pickup_Distance_To_Jogoo_Road\"] = test.apply(lambda row:vincenty((row[\"Pickup Lat\"],row[\"Pickup Long\"]),Jogoo_Road),axis=1)\n",
        "test[\"Pickup_Distance_To_Langata_Road\"] = test.apply(lambda row:vincenty((row[\"Pickup Lat\"],row[\"Pickup Long\"]),Langata_Road),axis=1)\n",
        "test[\"Pickup_Distance_To_Ngong_Road\"] = test.apply(lambda row:vincenty((row[\"Pickup Lat\"],row[\"Pickup Long\"]),Ngong_Road),axis=1)\n",
        "test[\"Pickup_Distance_To_Nairobi_Center\"] = test.apply(lambda row:vincenty((row[\"Pickup Lat\"],row[\"Pickup Long\"]),Nairobi_Center),axis=1)\n",
        "test[\"Pickup_Distance_To_Parklands\"] = test.apply(lambda row:vincenty((row[\"Pickup Lat\"],row[\"Pickup Long\"]),Parklands),axis=1)\n",
        "test[\"Destination_Distance_To_JK\"] = test.apply(lambda row:vincenty((row[\"Destination Lat\"],row[\"Destination Long\"]),JK),axis=1)\n",
        "test[\"Destination_Distance_To_Wilson\"] = test.apply(lambda row:vincenty((row[\"Destination Lat\"],row[\"Destination Long\"]),Wilson),axis=1)\n",
        "test[\"Destination_Distance_To_Jogoo_Road\"] = test.apply(lambda row:vincenty((row[\"Destination Lat\"],row[\"Destination Long\"]),Jogoo_Road),axis=1)\n",
        "test[\"Destination_Distance_To_Langata_Road\"] = test.apply(lambda row:vincenty((row[\"Destination Lat\"],row[\"Destination Long\"]),Langata_Road),axis=1)\n",
        "test[\"Destination_Distance_To_Ngong_Road\"] = test.apply(lambda row:vincenty((row[\"Destination Lat\"],row[\"Destination Long\"]),Ngong_Road),axis=1)\n",
        "test[\"Destination_Distance_To_Nairobi_Center\"] = test.apply(lambda row:vincenty((row[\"Destination Lat\"],row[\"Destination Long\"]),Nairobi_Center),axis=1)\n",
        "test[\"Destination_Distance_To_Parklands\"] = test.apply(lambda row:vincenty((row[\"Destination Lat\"],row[\"Destination Long\"]),Parklands),axis=1)\n"
      ],
      "execution_count": 0,
      "outputs": []
    },
    {
      "cell_type": "code",
      "metadata": {
        "colab_type": "code",
        "id": "iJ0otEqTMB5v",
        "colab": {}
      },
      "source": [
        "train.loc[:, 'center_latitude'] = (train['Pickup Lat'].values + train['Destination Lat'].values) / 2\n",
        "train.loc[:, 'center_longitude'] = (train['Pickup Long'].values + train['Destination Long'].values) / 2\n",
        "test.loc[:, 'center_latitude'] = (test['Pickup Lat'].values + test['Destination Lat'].values) / 2\n",
        "test.loc[:, 'center_longitude'] = (test['Pickup Long'].values + test['Destination Long'].values) / 2"
      ],
      "execution_count": 0,
      "outputs": []
    },
    {
      "cell_type": "code",
      "metadata": {
        "colab_type": "code",
        "id": "Rwp1Oyf1K2kN",
        "colab": {}
      },
      "source": [
        "from sklearn.decomposition import PCA\n",
        "pca = PCA(random_state=50).fit(coords)\n",
        "train['pickup_pca0'] = pca.transform(train[['Pickup Lat', 'Pickup Long']])[:, 0]\n",
        "train['pickup_pca1'] = pca.transform(train[['Pickup Lat', 'Pickup Long']])[:, 1]\n",
        "train['dropoff_pca0'] = pca.transform(train[['Destination Lat', 'Destination Long']])[:, 0]\n",
        "train['dropoff_pca1'] = pca.transform(train[['Destination Lat', 'Destination Long']])[:, 1]\n",
        "test['pickup_pca0'] = pca.transform(test[['Pickup Lat', 'Pickup Long']])[:, 0]\n",
        "test['pickup_pca1'] = pca.transform(test[['Pickup Lat', 'Pickup Long']])[:, 1]\n",
        "test['dropoff_pca0'] = pca.transform(test[['Destination Lat', 'Destination Long']])[:, 0]\n",
        "test['dropoff_pca1'] = pca.transform(test[['Destination Lat', 'Destination Long']])[:, 1]"
      ],
      "execution_count": 0,
      "outputs": []
    },
    {
      "cell_type": "code",
      "metadata": {
        "colab_type": "code",
        "id": "7LGMFwIBKt3R",
        "colab": {}
      },
      "source": [
        "coords = np.vstack((train[['Pickup Lat', 'Pickup Long']].values,\n",
        "                    train[['Destination Lat', 'Destination Long']].values))"
      ],
      "execution_count": 0,
      "outputs": []
    },
    {
      "cell_type": "code",
      "metadata": {
        "colab_type": "code",
        "id": "kkiu079sSRZJ",
        "colab": {}
      },
      "source": [
        "from sklearn.cluster import MiniBatchKMeans\n",
        "sample_ind = np.arange(start=0, stop=len(coords), step=1)\n",
        "kmeans = MiniBatchKMeans(n_clusters=14, batch_size=11000,random_state=50).fit(coords[sample_ind])\n",
        "train.loc[:, 'pickup_cluster'] = kmeans.predict(train[['Pickup Lat', 'Pickup Long']])\n",
        "train.loc[:, 'dropoff_cluster'] = kmeans.predict(train[['Destination Lat', 'Destination Long']])\n",
        "test.loc[:, 'pickup_cluster'] = kmeans.predict(test[['Pickup Lat', 'Pickup Long']])\n",
        "test.loc[:, 'dropoff_cluster'] = kmeans.predict(test[['Destination Lat', 'Destination Long']])"
      ],
      "execution_count": 0,
      "outputs": []
    },
    {
      "cell_type": "code",
      "metadata": {
        "colab_type": "code",
        "id": "mBNVVPv2Z9JA",
        "colab": {}
      },
      "source": [
        "def bearing_array(lat1, lng1, lat2, lng2):\n",
        "    AVG_EARTH_RADIUS = 6371  # in km\n",
        "    lng_delta_rad = np.radians(lng2 - lng1)\n",
        "    lat1, lng1, lat2, lng2 = map(np.radians, (lat1, lng1, lat2, lng2))\n",
        "    y = np.sin(lng_delta_rad) * np.cos(lat2)\n",
        "    x = np.cos(lat1) * np.sin(lat2) - np.sin(lat1) * np.cos(lat2) * np.cos(lng_delta_rad)\n",
        "    return np.degrees(np.arctan2(y, x))"
      ],
      "execution_count": 0,
      "outputs": []
    },
    {
      "cell_type": "code",
      "metadata": {
        "colab_type": "code",
        "id": "gDBNMA-kZozp",
        "colab": {}
      },
      "source": [
        "train.loc[:, 'direction'] = bearing_array(train['Pickup Lat'].values, train['Pickup Long'].values, train['Destination Lat'].values, train['Destination Long'].values)\n",
        "test.loc[:, 'direction'] = bearing_array(test['Pickup Lat'].values, test['Pickup Long'].values, test['Destination Lat'].values, test['Destination Long'].values)\n"
      ],
      "execution_count": 0,
      "outputs": []
    },
    {
      "cell_type": "code",
      "metadata": {
        "colab_type": "code",
        "id": "GifJkHNSO7Ko",
        "colab": {}
      },
      "source": [
        "train[\"Rating13\"] = train[\"Average_Rating\"].apply(lambda x:1 if x>=13 and x<14 else 0)\n",
        "train[\"Rating14\"] = train[\"Average_Rating\"].apply(lambda x:1 if x>=14 and x<15 else 0)\n",
        "train[\"Rating15+\"] = train[\"Average_Rating\"].apply(lambda x:1 if x>=15 else 0)\n",
        "train[\"Rating_Under_11\"] = train[\"Average_Rating\"].apply(lambda x:1 if x<11 else 0)\n",
        "train[\"Rating_between_11_12\"] = train[\"Average_Rating\"].apply(lambda x:1 if x>=11 and x<13 else 0)\n",
        "\n",
        "test[\"Rating13\"] = test[\"Average_Rating\"].apply(lambda x:1 if x>=13 and x<14 else 0)\n",
        "test[\"Rating14\"] = test[\"Average_Rating\"].apply(lambda x:1 if x>=14 and x<15 else 0)\n",
        "test[\"Rating15+\"] = test[\"Average_Rating\"].apply(lambda x:1 if x>=15 else 0)\n",
        "test[\"Rating_Under_11\"] = test[\"Average_Rating\"].apply(lambda x:1 if x<11 else 0)\n",
        "test[\"Rating_between_11_12\"] = test[\"Average_Rating\"].apply(lambda x:1 if x>=11 and x<13 else 0)\n",
        "\n",
        "\n",
        "\n"
      ],
      "execution_count": 0,
      "outputs": []
    },
    {
      "cell_type": "code",
      "metadata": {
        "colab_type": "code",
        "id": "u3O5Cq9V-sPW",
        "colab": {}
      },
      "source": [
        "def haversine_array(lat1, lng1, lat2, lng2):\n",
        "    lat1, lng1, lat2, lng2 = map(np.radians, (lat1, lng1, lat2, lng2))\n",
        "    AVG_EARTH_RADIUS = 6371  # in km\n",
        "    lat = lat2 - lat1\n",
        "    lng = lng2 - lng1\n",
        "    d = np.sin(lat * 0.5) ** 2 + np.cos(lat1) * np.cos(lat2) * np.sin(lng * 0.5) ** 2\n",
        "    h = 2 * AVG_EARTH_RADIUS * np.arcsin(np.sqrt(d))\n",
        "    return h\n",
        "\n",
        "def dummy_manhattan_distance(lat1, lng1, lat2, lng2):\n",
        "    a = haversine_array(lat1, lng1, lat1, lng2)\n",
        "    b = haversine_array(lat1, lng1, lat2, lng1)\n",
        "    return a + b\n",
        "train.loc[:, 'distance_haversine'] = haversine_array(train['Pickup Lat'].values, train['Pickup Long'].values, train['Destination Lat'].values, train['Destination Long'].values)\n",
        "test.loc[:, 'distance_haversine'] = haversine_array(test['Pickup Lat'].values, test['Pickup Long'].values, test['Destination Lat'].values, test['Destination Long'].values)\n"
      ],
      "execution_count": 0,
      "outputs": []
    },
    {
      "cell_type": "code",
      "metadata": {
        "colab_type": "code",
        "id": "5fBTXQKlzc1w",
        "colab": {}
      },
      "source": [
        "train.loc[:, 'distance_manhattan'] = dummy_manhattan_distance(train['Pickup Lat'].values, train['Pickup Long'].values, train['Destination Lat'].values, train['Destination Long'].values)\n",
        "test.loc[:, 'distance_manhattan'] = dummy_manhattan_distance(test['Pickup Lat'].values, test['Pickup Long'].values, test['Destination Lat'].values, test['Destination Long'].values)"
      ],
      "execution_count": 0,
      "outputs": []
    },
    {
      "cell_type": "code",
      "metadata": {
        "colab_type": "code",
        "id": "yo9Ic5-km4bP",
        "colab": {}
      },
      "source": [
        "train.loc[:, 'pickup_lat_bin'] = np.round(train['Pickup Lat'], 2)\n",
        "train.loc[:, 'pickup_long_bin'] = np.round(train['Pickup Long'], 2)\n",
        "train.loc[:, 'dest_lat_bin'] = np.round(train['Destination Lat'],2)\n",
        "train.loc[:, 'dest_long_bin'] = np.round(train['Destination Long'], 2)\n",
        "test.loc[:, 'pickup_lat_bin'] = np.round(test['Pickup Lat'], 2)\n",
        "test.loc[:, 'pickup_long_bin'] = np.round(test['Pickup Long'], 2)\n",
        "test.loc[:, 'dest_lat_bin'] = np.round(test['Destination Lat'], 2)\n",
        "test.loc[:, 'dest_long_bin'] = np.round(test['Destination Long'], 2)"
      ],
      "execution_count": 0,
      "outputs": []
    },
    {
      "cell_type": "code",
      "metadata": {
        "colab_type": "code",
        "id": "_9coFVm1lwB_",
        "colab": {}
      },
      "source": [
        "train['Pickup - Time'] = pd.to_datetime(train['Pickup - Time'])\n",
        "test['Pickup - Time'] = pd.to_datetime(test['Pickup - Time'])\n",
        "train['Pickup_Hour'] = train['Pickup - Time'].dt.hour\n",
        "test['Pickup_Hour'] = test['Pickup - Time'].dt.hour"
      ],
      "execution_count": 0,
      "outputs": []
    },
    {
      "cell_type": "code",
      "metadata": {
        "colab_type": "code",
        "id": "aXeq5NJFyn0e",
        "colab": {}
      },
      "source": [
        "train['Confirmation - Time'] = pd.to_datetime(train['Confirmation - Time'])\n",
        "test['Confirmation - Time'] = pd.to_datetime(test['Confirmation - Time'])\n",
        "train['Confirmation_Hour'] = train['Confirmation - Time'].dt.hour\n",
        "test['Confirmation_Hour'] = test['Confirmation - Time'].dt.hour"
      ],
      "execution_count": 0,
      "outputs": []
    },
    {
      "cell_type": "code",
      "metadata": {
        "colab_type": "code",
        "id": "6ea_AcJXVO73",
        "colab": {}
      },
      "source": [
        "hours_in_day = 24\n",
        "\n",
        "train['sin_hour_pickup'] = np.sin(2*np.pi*train.Pickup_Hour/hours_in_day)\n",
        "train['cos_hour_pickup'] = np.cos(2*np.pi*train.Pickup_Hour/hours_in_day)\n",
        "test['sin_hour_pickup'] = np.sin(2*np.pi*test.Pickup_Hour/hours_in_day)\n",
        "test['cos_hour_pickup'] = np.cos(2*np.pi*test.Pickup_Hour/hours_in_day)"
      ],
      "execution_count": 0,
      "outputs": []
    },
    {
      "cell_type": "code",
      "metadata": {
        "colab_type": "code",
        "id": "u3bUZUFczqua",
        "colab": {}
      },
      "source": [
        "hours_in_day = 24\n",
        "\n",
        "train['sin_hour_confirmation'] = np.sin(2*np.pi*train.Pickup_Hour/hours_in_day)\n",
        "train['cos_hour_confirmation'] = np.cos(2*np.pi*train.Pickup_Hour/hours_in_day)\n",
        "test['sin_hour_confirmation'] = np.sin(2*np.pi*test.Pickup_Hour/hours_in_day)\n",
        "test['cos_hour_confirmation'] = np.cos(2*np.pi*test.Pickup_Hour/hours_in_day)"
      ],
      "execution_count": 0,
      "outputs": []
    },
    {
      "cell_type": "code",
      "metadata": {
        "colab_type": "code",
        "id": "bWBIgWihf-8K",
        "colab": {}
      },
      "source": [
        "most_congested_locations = [\"Spring Valley\",\"Upper Parklands\",\"Landmawe\",\"Kilimani\",\"City Square\",\"Muthangari\",\"Woodley\",\"Highridge\",\"South 'c'\",\"Kileleshwa\",\"Maziwa\",'Kenyatta']"
      ],
      "execution_count": 0,
      "outputs": []
    },
    {
      "cell_type": "code",
      "metadata": {
        "colab_type": "code",
        "id": "MU9zYu45kYkq",
        "colab": {}
      },
      "source": [
        "for location in most_congested_locations:\n",
        "  train['Departure'+'_'+location] = train[\"Origin_Place\"].apply(lambda x:1 if x==location else 0)\n",
        "  train['Arrival'+'_'+location] = train[\"Destination_Place\"].apply(lambda x:1 if x==location else 0)\n",
        "  test['Departure'+'_'+location] = test[\"Origin_Place\"].apply(lambda x:1 if x==location else 0)\n",
        "  test['Arrival'+'_'+location] = test[\"Destination_Place\"].apply(lambda x:1 if x==location else 0)\n"
      ],
      "execution_count": 0,
      "outputs": []
    },
    {
      "cell_type": "code",
      "metadata": {
        "colab_type": "code",
        "id": "iZx72kvys26e",
        "colab": {}
      },
      "source": [
        "for i in range(len(train)):\n",
        "  print(i)\n",
        "  for j in range(len(subloc)):\n",
        "    longitude = list(Polygon(subloc['features'][j]['geometry']['coordinates'][0]).centroid.coords)[0][0]\n",
        "    latitude = list(Polygon(subloc['features'][j]['geometry']['coordinates'][0]).centroid.coords)[0][1]\n",
        "    train.loc[i,\"distance_Departure_from_poly_{}\".format(j)] = vincenty((latitude,longitude),(train.iloc[i][\"Pickup Lat\"],train.iloc[i][\"Pickup Long\"]))\n",
        "    train.loc[i,\"distance_Arrival_from_poly_{}\".format(j)] = vincenty((latitude,longitude),(train.iloc[i][\"Destination Lat\"],train.iloc[i][\"Destination Long\"]))\n"
      ],
      "execution_count": 0,
      "outputs": []
    },
    {
      "cell_type": "code",
      "metadata": {
        "colab_type": "code",
        "id": "SAwTA7AbunTv",
        "colab": {}
      },
      "source": [
        "for i in range(len(test)):\n",
        "  print(i)\n",
        "  for j in range(len(subloc)):\n",
        "    longitude = list(Polygon(subloc['features'][j]['geometry']['coordinates'][0]).centroid.coords)[0][0]\n",
        "    latitude = list(Polygon(subloc['features'][j]['geometry']['coordinates'][0]).centroid.coords)[0][1]\n",
        "    test.loc[i,\"distance_Departure_from_poly_{}\".format(j)] = vincenty((latitude,longitude),(test.iloc[i][\"Pickup Lat\"],test.iloc[i][\"Pickup Long\"]))\n",
        "    test.loc[i,\"distance_Arrival_from_poly_{}\".format(j)] = vincenty((latitude,longitude),(test.iloc[i][\"Destination Lat\"],test.iloc[i][\"Destination Long\"]))\n"
      ],
      "execution_count": 0,
      "outputs": []
    },
    {
      "cell_type": "code",
      "metadata": {
        "colab_type": "code",
        "id": "K6LSYG6xqzro",
        "colab": {}
      },
      "source": [
        "test.tail()"
      ],
      "execution_count": 0,
      "outputs": []
    },
    {
      "cell_type": "code",
      "metadata": {
        "colab_type": "code",
        "id": "DiwHo32ezNkI",
        "colab": {}
      },
      "source": [
        "def haversine_dist(lat1,lng1,lat2,lng2):\n",
        "  lat1, lng1, lat2, lng2 = map(np.radians, (lat1, lng1, lat2, lng2))\n",
        "  radius = 6371  # Earth's radius taken from google\n",
        "  lat = lat2 - lat1\n",
        "  lng = lng2 - lng1\n",
        "  d = np.sin(lat/2) ** 2 + np.cos(lat1) * np.cos(lat2) * np.sin(lng/2) ** 2\n",
        "  h = 2 * radius * np.arcsin(np.sqrt(d))\n",
        "  return h"
      ],
      "execution_count": 0,
      "outputs": []
    },
    {
      "cell_type": "code",
      "metadata": {
        "id": "oWt-1D2n0Y3F",
        "colab_type": "code",
        "colab": {}
      },
      "source": [
        "train.drop(['mean_travel_time','standard_deviation_travel_time'],axis=1,inplace=True)\n",
        "test.drop(['mean_travel_time','standard_deviation_travel_time'],axis=1,inplace=True)"
      ],
      "execution_count": 0,
      "outputs": []
    },
    {
      "cell_type": "code",
      "metadata": {
        "id": "Nociaer10Y3H",
        "colab_type": "code",
        "colab": {}
      },
      "source": [
        "error_mean=train.error_rate_rider.mean()\n",
        "train.loc[(train.error_rate_rider>=0.2)&(train.Total_Orders<=5),'error_rate_rider']=error_mean\n",
        "test.loc[(test.error_rate_rider>=0.2)&(test.Total_Orders<=5),'error_rate_rider']=error_mean"
      ],
      "execution_count": 0,
      "outputs": []
    },
    {
      "cell_type": "code",
      "metadata": {
        "id": "cusHjCL00Y3J",
        "colab_type": "code",
        "colab": {}
      },
      "source": [
        "train = pd.merge(train,uber_data_weekdays, on=['sourceid', 'dstid','hod'],how=\"left\")\n",
        "test = pd.merge(test,uber_data_weekdays, on=['sourceid', 'dstid','hod'],how=\"left\")"
      ],
      "execution_count": 0,
      "outputs": []
    },
    {
      "cell_type": "code",
      "metadata": {
        "id": "wQGwAPAU0Y3L",
        "colab_type": "code",
        "colab": {}
      },
      "source": [
        "train.rename({'mean_travel_time':'mean_travel_time_y','standard_deviation_travel_time':'standard_deviation_travel_time_y'},axis=1,inplace=True)\n",
        "test.rename({'mean_travel_time':'mean_travel_time_y','standard_deviation_travel_time':'standard_deviation_travel_time_y'},axis=1,inplace=True)"
      ],
      "execution_count": 0,
      "outputs": []
    },
    {
      "cell_type": "code",
      "metadata": {
        "id": "q7Bdzvlq0Y3N",
        "colab_type": "code",
        "colab": {}
      },
      "source": [
        "train.loc[train.not_weekend==0,'mean_travel_time_y']=-1\n",
        "train.loc[train.not_weekend==0,'standard_deviation_travel_time_y']=-1\n",
        "test.loc[test.not_weekend==0,'mean_travel_time_y']=-1\n",
        "test.loc[test.not_weekend==0,'standard_deviation_travel_time_y']=-1"
      ],
      "execution_count": 0,
      "outputs": []
    },
    {
      "cell_type": "code",
      "metadata": {
        "id": "Q2dq_62a0Y3P",
        "colab_type": "code",
        "colab": {}
      },
      "source": [
        "train = pd.merge(train,uber_data_weekends, on=['sourceid', 'dstid','hod'],how=\"left\")\n",
        "test = pd.merge(test,uber_data_weekends, on=['sourceid', 'dstid','hod'],how=\"left\")"
      ],
      "execution_count": 0,
      "outputs": []
    },
    {
      "cell_type": "code",
      "metadata": {
        "id": "7So8mzIR0Y3Q",
        "colab_type": "code",
        "colab": {}
      },
      "source": [
        "#train.loc[train.mean_travel_time_y==-1,'mean_travel_time_y']=train.mean_travel_time\n",
        "#train.loc[train.standard_deviation_travel_time_y==-1,'standard_deviation_travel_time_y']=train.standard_deviation_travel_time\n",
        "#test.loc[test.mean_travel_time_y==-1,'mean_travel_time_y']=test.mean_travel_time\n",
        "#test.loc[test.standard_deviation_travel_time_y==-1,'standard_deviation_travel_time_y']=test.standard_deviation_travel_time"
      ],
      "execution_count": 0,
      "outputs": []
    },
    {
      "cell_type": "code",
      "metadata": {
        "id": "7MQ5HOMj0Y3R",
        "colab_type": "code",
        "colab": {}
      },
      "source": [
        "train.loc[train.mean_travel_time_y==-1,'mean_travel_time_y']=train.loc[train.mean_travel_time_y==-1,'mean_travel_time']\n",
        "train.loc[train.standard_deviation_travel_time_y==-1,'standard_deviation_travel_time_y']=train.loc[train.standard_deviation_travel_time_y==-1,'standard_deviation_travel_time']\n",
        "test.loc[test.mean_travel_time_y==-1,'mean_travel_time_y']=test.loc[test.mean_travel_time_y==-1,'mean_travel_time']\n",
        "test.loc[test.standard_deviation_travel_time_y==-1,'standard_deviation_travel_time_y']=test.loc[test.standard_deviation_travel_time_y==-1,'standard_deviation_travel_time']"
      ],
      "execution_count": 0,
      "outputs": []
    },
    {
      "cell_type": "code",
      "metadata": {
        "colab_type": "code",
        "id": "1sTXQg1YCzCc",
        "colab": {}
      },
      "source": [
        "train=train[train['Time from Pickup to Arrival']<=5000]"
      ],
      "execution_count": 0,
      "outputs": []
    },
    {
      "cell_type": "code",
      "metadata": {
        "colab_type": "code",
        "id": "OAlqmbgNTfjd",
        "colab": {}
      },
      "source": [
        "features1 = ['Platform Type','Personal or Business', #'Total_Population',\n",
        "        'not_weekend','Placement - Day of Month_quarter_of_month',\n",
        "       'distance_haversine',#'Daytime_Day', \n",
        "             #'Temperature',\n",
        "        'Rider Id','DayTime',#'AM_PM',# 'pos_pickup','pos_dest',\n",
        "             #'cluster_to_cluster',#'from_to',\n",
        "             'Destination_Distance_To_Nairobi_Center','Pickup_Distance_To_Nairobi_Center',\n",
        "       'Pickup_Distance_To_Wilson','Pickup_Distance_To_Jogoo_Road',\n",
        "             'Pickup_Distance_To_Langata_Road','Pickup_Distance_To_Ngong_Road',\n",
        "      'Destination_Distance_To_Wilson','Destination_Distance_To_Jogoo_Road',\n",
        "           'Destination_Distance_To_Langata_Road', 'Destination_Distance_To_Ngong_Road',\n",
        "             'Pickup_Distance_To_JK','Destination_Distance_To_JK',\n",
        "             #'Pickup_Distance_To_Parklands',#'Destination_Distance_To_Parklands',\n",
        "        #'User Id',\n",
        "        #'No_Of_Orders', 'Age', 'Average_Rating', 'No_of_Ratings',\n",
        "       #'WrongOrders',  \n",
        "        'Pickup Lat','Pickup Long','Destination Lat','Destination Long' ,    \n",
        "       'error_rate_rider','RatingFactor_Rider', 'Productivity_Rider','Average_Rider_Speed',\n",
        "        'Placement_Time - Confirmation', 'Confirmation - Arrival_Pickup',\n",
        "       'Arrival at Pickup - Pickup','Distance-Minimum Distance',\n",
        "             'pickup_pca0', 'pickup_pca1','dropoff_pca0', 'dropoff_pca1',\n",
        "       'center_latitude', 'center_longitude','pickup_cluster', 'dropoff_cluster','direction',\n",
        "        'Rating13', 'Rating14', 'Rating15+', 'Rating_Under_11', 'Rating_between_11_12',\n",
        "             #'mean_travel_time_x',\n",
        "             'mean_travel_time_y','standard_deviation_travel_time_y',\n",
        " 'cos_hour_pickup','sin_hour_pickup',\n",
        "  'openroute_duration',\n",
        "             #'standard_deviation_travel_time_x'\n",
        "              'distance_Departure_from_poly_1',\n",
        " 'distance_Arrival_from_poly_1',\n",
        "  'distance_Departure_from_poly_2',\n",
        " 'distance_Arrival_from_poly_2',\n",
        "  'distance_Departure_from_poly_3',\n",
        " 'distance_Arrival_from_poly_3',\n",
        "  'distance_Departure_from_poly_4',\n",
        " 'distance_Arrival_from_poly_4',\n",
        " \n",
        " 'distance_Departure_from_poly_21',\n",
        " 'distance_Arrival_from_poly_21',\n",
        " 'distance_Departure_from_poly_22',\n",
        " 'distance_Arrival_from_poly_22',\n",
        " 'distance_Departure_from_poly_23',\n",
        " 'distance_Arrival_from_poly_23',\n",
        " 'distance_Departure_from_poly_24',\n",
        " 'distance_Arrival_from_poly_24',\n",
        " 'distance_Departure_from_poly_25',\n",
        " 'distance_Arrival_from_poly_25',\n",
        " 'distance_Departure_from_poly_26',\n",
        " 'distance_Arrival_from_poly_26',\n",
        " 'distance_Departure_from_poly_27',\n",
        " 'distance_Arrival_from_poly_27',\n",
        " 'distance_Departure_from_poly_28',\n",
        " 'distance_Arrival_from_poly_28',\n",
        "\n",
        "\n",
        "\n",
        " 'distance_Departure_from_poly_50',\n",
        " 'distance_Arrival_from_poly_50',\n",
        " 'distance_Departure_from_poly_51',\n",
        " 'distance_Arrival_from_poly_51',\n",
        " 'distance_Departure_from_poly_52',\n",
        " 'distance_Arrival_from_poly_52',\n",
        " 'distance_Departure_from_poly_53',\n",
        " 'distance_Arrival_from_poly_53',\n",
        " 'distance_Departure_from_poly_54',\n",
        " 'distance_Arrival_from_poly_54',\n",
        " 'distance_Departure_from_poly_55',\n",
        " 'distance_Arrival_from_poly_55',\n",
        " 'distance_Departure_from_poly_56',\n",
        " 'distance_Arrival_from_poly_56',\n",
        " 'distance_Departure_from_poly_57',\n",
        " 'distance_Arrival_from_poly_57',\n",
        " 'distance_Departure_from_poly_58',\n",
        " 'distance_Arrival_from_poly_58',\n",
        " 'distance_Departure_from_poly_59',\n",
        " 'distance_Arrival_from_poly_59',\n",
        " 'distance_Departure_from_poly_60',\n",
        " 'distance_Arrival_from_poly_60',\n",
        " 'distance_Departure_from_poly_61',\n",
        " 'distance_Arrival_from_poly_61',\n",
        " 'distance_Departure_from_poly_62',\n",
        " 'distance_Arrival_from_poly_62',\n",
        " 'distance_Departure_from_poly_63',\n",
        " 'distance_Arrival_from_poly_63',\n",
        " 'distance_Departure_from_poly_64',\n",
        " 'distance_Arrival_from_poly_64',\n",
        " 'distance_Departure_from_poly_65',\n",
        " 'distance_Arrival_from_poly_65',\n",
        " 'distance_Departure_from_poly_66',\n",
        " 'distance_Arrival_from_poly_66',\n",
        " 'distance_Departure_from_poly_67',\n",
        " 'distance_Arrival_from_poly_67',\n",
        " 'distance_Departure_from_poly_68',\n",
        " 'distance_Arrival_from_poly_68',\n",
        " 'distance_Departure_from_poly_69',\n",
        " 'distance_Arrival_from_poly_69',\n",
        " 'distance_Departure_from_poly_70',\n",
        " 'distance_Arrival_from_poly_70',\n",
        " 'distance_Departure_from_poly_71',\n",
        " 'distance_Arrival_from_poly_71',\n",
        " 'distance_Departure_from_poly_72',\n",
        " 'distance_Arrival_from_poly_72',\n",
        " 'distance_Departure_from_poly_73',\n",
        " 'distance_Arrival_from_poly_73',\n",
        " 'distance_Departure_from_poly_74',\n",
        " 'distance_Arrival_from_poly_74',\n",
        " 'distance_Departure_from_poly_75',\n",
        " 'distance_Arrival_from_poly_75',\n",
        " 'distance_Departure_from_poly_76',\n",
        " 'distance_Arrival_from_poly_76',\n",
        " 'distance_Departure_from_poly_77',\n",
        " 'distance_Arrival_from_poly_77',\n",
        " 'distance_Departure_from_poly_78',\n",
        " 'distance_Arrival_from_poly_78',\n",
        " 'distance_Departure_from_poly_79',\n",
        " 'distance_Arrival_from_poly_79',\n",
        "\n",
        " 'distance_Departure_from_poly_93',\n",
        " 'distance_Arrival_from_poly_93',\n",
        " 'distance_Departure_from_poly_94',\n",
        " 'distance_Arrival_from_poly_94',\n",
        " 'distance_Departure_from_poly_95',\n",
        " 'distance_Arrival_from_poly_95',\n",
        " 'distance_Departure_from_poly_96',\n",
        " 'distance_Arrival_from_poly_96',\n",
        " 'distance_Departure_from_poly_97',\n",
        " 'distance_Arrival_from_poly_97',\n",
        " 'distance_Departure_from_poly_98',\n",
        " 'distance_Arrival_from_poly_98',\n",
        " 'distance_Departure_from_poly_99',\n",
        " 'distance_Arrival_from_poly_99',\n",
        " 'distance_Departure_from_poly_100',\n",
        " 'distance_Arrival_from_poly_100',\n",
        " 'distance_Departure_from_poly_101',\n",
        " 'distance_Arrival_from_poly_101',\n",
        " 'distance_Departure_from_poly_102',\n",
        " 'distance_Arrival_from_poly_102',\n",
        " 'distance_Departure_from_poly_103',\n",
        " 'distance_Arrival_from_poly_103',\n",
        " 'distance_Departure_from_poly_104',\n",
        " 'distance_Arrival_from_poly_104',\n",
        " 'distance_Departure_from_poly_106',\n",
        " 'distance_Arrival_from_poly_106']"
      ],
      "execution_count": 0,
      "outputs": []
    },
    {
      "cell_type": "code",
      "metadata": {
        "colab_type": "code",
        "id": "l-3QEyZE3iAN",
        "colab": {}
      },
      "source": [
        "oce = ce.OneHotEncoder(cols=['Platform Type','Personal or Business','DayTime'])#,'AM_PM'])#,'Daytime_Day'])\n",
        "hce = ce.TargetEncoder(cols=['Rider Id'],smoothing=40,min_samples_leaf=7)\n",
        "X = train[features1]\n",
        "y = train['Time from Pickup to Arrival']\n",
        "X_test = test[features1]\n",
        "X = oce.fit_transform(X)\n",
        "X = hce.fit_transform(X,y)\n",
        "X_test = oce.transform(X_test)\n",
        "X_test = hce.transform(X_test)\n",
        "X.Average_Rider_Speed.fillna(value=X[\"Average_Rider_Speed\"].mean(),inplace=True)\n",
        "X_test.Average_Rider_Speed.fillna(value=X[\"Average_Rider_Speed\"].mean(),inplace=True)\n",
        "X.mean_travel_time_y.fillna(value=X[\"mean_travel_time_y\"].mean(),inplace=True)\n",
        "X_test.mean_travel_time_y.fillna(value=X[\"mean_travel_time_y\"].mean(),inplace=True)\n",
        "X.standard_deviation_travel_time_y.fillna(value=X[\"standard_deviation_travel_time_y\"].mean(),inplace=True)\n",
        "X_test.standard_deviation_travel_time_y.fillna(value=X[\"standard_deviation_travel_time_y\"].mean(),inplace=True)\n",
        "\n",
        "#X.geometric_standard_deviation_travel_time_y.fillna(value=X[\"geometric_standard_deviation_travel_time_y\"].mean(),inplace=True)\n",
        "#X_test.geometric_standard_deviation_travel_time_y.fillna(value=X_test[\"geometric_standard_deviation_travel_time_y\"].mean(),inplace=True)\n",
        "#X.geometric_mean_travel_time_y.fillna(value=X[\"geometric_mean_travel_time_y\"].mean(),inplace=True)\n",
        "#X_test.geometric_mean_travel_time_y.fillna(value=X_test[\"geometric_mean_travel_time_y\"].mean(),inplace=True)\n",
        "#X.speed_kph_p85.fillna(value=X[\"speed_kph_p85\"].mean(),inplace=True)\n",
        "#X_test.speed_kph_p85.fillna(value=X_test[\"speed_kph_p85\"].mean(),inplace=True)"
      ],
      "execution_count": 0,
      "outputs": []
    },
    {
      "cell_type": "code",
      "metadata": {
        "colab_type": "code",
        "id": "LabnxO96u4JD",
        "colab": {}
      },
      "source": [
        "nfolds = 10\n",
        "kfolds=KFold(n_splits=nfolds, shuffle=True, random_state=10)"
      ],
      "execution_count": 0,
      "outputs": []
    },
    {
      "cell_type": "code",
      "metadata": {
        "colab_type": "code",
        "id": "2aJ6miaw7Fyg",
        "colab": {}
      },
      "source": [
        "oof_train_2 = np.zeros((len(X)))\n",
        "oof_test_2 = np.zeros((len(test)))\n",
        "cv_scores_2 = []\n",
        "train_scores_2=[]\n",
        "r2_train_scores_2=[]\n",
        "test_scores_2=[]\n",
        "r2_cv_scores_2=[]\n",
        "for ind,(ind_train,ind_val) in (enumerate (kfolds.split(X,y))): \n",
        "    X_train,X_val = X.iloc[ind_train],X.iloc[ind_val] \n",
        "    y_train,y_val = y.iloc[ind_train],y.iloc[ind_val]\n",
        "    #model=CatBoostRegressor(cat_features=cat_features)\n",
        "    model=BaggingRegressor(CatBoostRegressor(max_depth=5,learning_rate=0.18,n_estimators=422,colsample_bylevel=0.6,loss_function='RMSE',random_state=50,l2_leaf_reg=2,subsample=0.9),random_state=50)\n",
        "    model.fit(X_train,y_train)\n",
        "    val_pred = model.predict(X_val)\n",
        "    train_pred = model.predict(X_train)\n",
        "    test_pred = model.predict(X_test) # predict par fold sur le test\n",
        "    oof_test_2 += test_pred # contient pour chaque fold des prédictions pour tout le test\n",
        "    oof_train_2[ind_val] += val_pred\n",
        "    score_fold_validation_2=np.sqrt(mean_squared_error(y_val, val_pred))\n",
        "    score_fold_train_2=np.sqrt(mean_squared_error(y_train, train_pred))\n",
        "    train_scores_2.append(score_fold_train_2)\n",
        "    cv_scores_2.append(score_fold_validation_2)\n",
        "    print('Iteration : {} - Train XGB Score : {} - CV XGB Score : {}'.format(str(ind+1),r2_score(y_train,train_pred),r2_score(y_val,val_pred)))\n",
        "    r2_train_scores_2.append(r2_score(y_train,train_pred))\n",
        "    r2_cv_scores_2.append(r2_score(y_val,val_pred))\n",
        "end_train_score_2=np.mean(train_scores_2)\n",
        "train_scores_2.append(end_train_score_2)\n",
        "end_cv_score_2=np.mean(cv_scores_2)\n",
        "cv_scores_2.append(end_cv_score_2)\n",
        "end_r2_train_scores_2=np.mean(r2_train_scores_2)\n",
        "end_r2_cv_scores_2 = np.mean(r2_cv_scores_2)\n",
        "print('End_train_score : {} -  End_cv_score : {} '.format(end_train_score_2,end_cv_score_2))\n",
        "print('End_R²_train : {} -  End_R²_cv : {} '.format(end_r2_train_scores_2,end_r2_cv_scores_2))"
      ],
      "execution_count": 0,
      "outputs": []
    },
    {
      "cell_type": "code",
      "metadata": {
        "colab_type": "code",
        "id": "U9syhwr9wUa5",
        "colab": {}
      },
      "source": [
        "from sklearn.ensemble import BaggingRegressor"
      ],
      "execution_count": 0,
      "outputs": []
    },
    {
      "cell_type": "code",
      "metadata": {
        "colab_type": "code",
        "id": "7eYH436Cu4JF",
        "colab": {}
      },
      "source": [
        "oof_train = np.zeros((len(X)))\n",
        "oof_test = np.zeros((len(test)))\n",
        "cv_scores = []\n",
        "train_scores=[]\n",
        "r2_train_scores=[]\n",
        "test_scores=[]\n",
        "r2_cv_scores=[]\n",
        "for ind,(ind_train,ind_val) in (enumerate (kfolds.split(X,y))): \n",
        "    X_train,X_val = X.iloc[ind_train],X.iloc[ind_val] \n",
        "    y_train,y_val = y.iloc[ind_train],y.iloc[ind_val]\n",
        "    #model=CatBoostRegressor(cat_features=cat_features)\n",
        "    model=XGBRegressor(max_depth=4,learning_rate=0.17,n_estimators=422,min_child_weight =80,colsample_bytree=0.5,random_state=50,colsample_bylevel=0.6,objective='reg:squarederror')#,colsample_bynode=0.6)\n",
        "    model.fit(X_train,y_train)\n",
        "    val_pred = model.predict(X_val)\n",
        "    train_pred = model.predict(X_train)\n",
        "    test_pred = model.predict(X_test) # predict par fold sur le test\n",
        "    oof_test += test_pred # contient pour chaque fold des prédictions pour tout le test\n",
        "    oof_train[ind_val] += val_pred\n",
        "    score_fold_validation=np.sqrt(mean_squared_error(y_val, val_pred))\n",
        "    score_fold_train=np.sqrt(mean_squared_error(y_train, train_pred))\n",
        "    train_scores.append(score_fold_train)\n",
        "    cv_scores.append(score_fold_validation)\n",
        "    print('Iteration : {} - Train XGB Score : {} - CV XGB Score : {}'.format(str(ind+1),r2_score(y_train,train_pred),r2_score(y_val,val_pred)))\n",
        "    r2_train_scores.append(r2_score(y_train,train_pred))\n",
        "    r2_cv_scores.append(r2_score(y_val,val_pred))\n",
        "end_train_score=np.mean(train_scores)\n",
        "train_scores.append(end_train_score)\n",
        "end_cv_score=np.mean(cv_scores)\n",
        "cv_scores.append(end_cv_score)\n",
        "\n",
        "end_r2_train_scores=np.mean(r2_train_scores)\n",
        "end_r2_cv_scores = np.mean(r2_cv_scores)\n",
        "print('End_train_score : {} -  End_cv_score : {} '.format(end_train_score,end_cv_score))\n",
        "print('End_R²_train : {} -  End_R²_cv : {} '.format(end_r2_train_scores,end_r2_cv_scores))"
      ],
      "execution_count": 0,
      "outputs": []
    },
    {
      "cell_type": "code",
      "metadata": {
        "colab_type": "code",
        "id": "QhGR3oT9s-H7",
        "colab": {}
      },
      "source": [
        "!pip install lightgbm\n"
      ],
      "execution_count": 0,
      "outputs": []
    },
    {
      "cell_type": "code",
      "metadata": {
        "colab_type": "code",
        "id": "LFw_F3eGtUPI",
        "colab": {}
      },
      "source": [
        "from lightgbm import LGBMRegressor\n"
      ],
      "execution_count": 0,
      "outputs": []
    },
    {
      "cell_type": "code",
      "metadata": {
        "colab_type": "code",
        "id": "f_JPwkxJssa2",
        "colab": {}
      },
      "source": [
        "oof_train_4 = np.zeros((len(X)))\n",
        "oof_test_4 = np.zeros((len(test)))\n",
        "cv_scores_4 = []\n",
        "train_scores_4=[]\n",
        "r2_train_scores_4=[]\n",
        "test_scores_4=[]\n",
        "r2_cv_scores_4=[]\n",
        "for ind,(ind_train,ind_val) in (enumerate (kfolds.split(X,y))): \n",
        "    X_train,X_val = X.iloc[ind_train],X.iloc[ind_val] \n",
        "    y_train,y_val = y.iloc[ind_train],y.iloc[ind_val]\n",
        "    #model=CatBoostRegressor(cat_features=cat_features)\n",
        "    model = LGBMRegressor(max_depth=4,learning_rate=0.17,n_estimators=420,min_child_weight =80,colsample_bytree=0.5,random_state=50,colsample_bylevel=0.6)\n",
        "    model.fit(X_train,y_train)\n",
        "    val_pred = model.predict(X_val)\n",
        "    train_pred = model.predict(X_train)\n",
        "    test_pred = model.predict(X_test) # predict par fold sur le test\n",
        "    oof_test_4 += test_pred # contient pour chaque fold des prédictions pour tout le test\n",
        "    oof_train_4[ind_val] += val_pred\n",
        "    score_fold_validation_4=np.sqrt(mean_squared_error(y_val, val_pred))\n",
        "    score_fold_train_4=np.sqrt(mean_squared_error(y_train, train_pred))\n",
        "    train_scores_4.append(score_fold_train_4)\n",
        "    cv_scores_4.append(score_fold_validation_4)\n",
        "    print('Iteration : {} - Train XGB Score : {} - CV XGB Score : {}'.format(str(ind+1),r2_score(y_train,train_pred),r2_score(y_val,val_pred)))\n",
        "    r2_train_scores_4.append(r2_score(y_train,train_pred))\n",
        "    r2_cv_scores_4.append(r2_score(y_val,val_pred))\n",
        "end_train_score_4=np.mean(train_scores_4)\n",
        "train_scores_4.append(end_train_score_4)\n",
        "end_cv_score_4=np.mean(cv_scores_4)\n",
        "cv_scores_4.append(end_cv_score_4)\n",
        "end_r2_train_scores_4=np.mean(r2_train_scores_4)\n",
        "end_r2_cv_scores_4 = np.mean(r2_cv_scores_4)\n",
        "print('End_train_score : {} -  End_cv_score : {} '.format(end_train_score_4,end_cv_score_4))\n",
        "print('End_R²_train : {} -  End_R²_cv : {} '.format(end_r2_train_scores_4,end_r2_cv_scores_4))"
      ],
      "execution_count": 0,
      "outputs": []
    },
    {
      "cell_type": "code",
      "metadata": {
        "colab_type": "code",
        "id": "90Jf_sZNjkkq",
        "colab": {}
      },
      "source": [
        "from sklearn.ensemble import GradientBoostingRegressor"
      ],
      "execution_count": 0,
      "outputs": []
    },
    {
      "cell_type": "code",
      "metadata": {
        "colab_type": "code",
        "id": "EG9rwLTdix__",
        "colab": {}
      },
      "source": [
        "oof_train_3 = np.zeros((len(X)))\n",
        "oof_test_3 = np.zeros((len(test)))\n",
        "cv_scores_3 = []\n",
        "train_scores_3=[]\n",
        "r2_train_scores_3=[]\n",
        "test_scores_3=[]\n",
        "r2_cv_scores_3=[]\n",
        "for ind,(ind_train,ind_val) in (enumerate (kfolds.split(X,y))): \n",
        "    X_train,X_val = X.iloc[ind_train],X.iloc[ind_val] \n",
        "    y_train,y_val = y.iloc[ind_train],y.iloc[ind_val]\n",
        "    #model=CatBoostRegressor(cat_features=cat_features)\n",
        "    model= GradientBoostingRegressor(n_estimators=420, learning_rate=0.17,\n",
        "                                   max_depth=5, max_features='auto',\n",
        "                                   min_samples_leaf=15, min_samples_split=10, \n",
        "                                   loss='huber', random_state =42)\n",
        "    model.fit(X_train,y_train)\n",
        "    val_pred = model.predict(X_val)\n",
        "    train_pred = model.predict(X_train)\n",
        "    test_pred = model.predict(X_test) # predict par fold sur le test\n",
        "    oof_test_3 += test_pred # contient pour chaque fold des prédictions pour tout le test\n",
        "    oof_train_3[ind_val] += val_pred\n",
        "    score_fold_validation_3=np.sqrt(mean_squared_error(y_val, val_pred))\n",
        "    score_fold_train_3=np.sqrt(mean_squared_error(y_train, train_pred))\n",
        "    train_scores_3.append(score_fold_train_3)\n",
        "    cv_scores_3.append(score_fold_validation_3)\n",
        "    print('Iteration : {} - Train XGB Score : {} - CV XGB Score : {}'.format(str(ind+1),r2_score(y_train,train_pred),r2_score(y_val,val_pred)))\n",
        "    r2_train_scores_3.append(r2_score(y_train,train_pred))\n",
        "    r2_cv_scores_3.append(r2_score(y_val,val_pred))\n",
        "end_train_score_3=np.mean(train_scores_3)\n",
        "train_scores_3.append(end_train_score_3)\n",
        "end_cv_score_3=np.mean(cv_scores_3)\n",
        "cv_scores_3.append(end_cv_score_3)\n",
        "end_r2_train_scores_3=np.mean(r2_train_scores_3)\n",
        "end_r2_cv_scores_3 = np.mean(r2_cv_scores_3)\n",
        "print('End_train_score : {} -  End_cv_score : {} '.format(end_train_score_3,end_cv_score_3))\n",
        "print('End_R²_train : {} -  End_R²_cv : {} '.format(end_r2_train_scores_3,end_r2_cv_scores_3))"
      ],
      "execution_count": 0,
      "outputs": []
    },
    {
      "cell_type": "code",
      "metadata": {
        "colab_type": "code",
        "id": "TbjkvRAHu4JH",
        "colab": {}
      },
      "source": [
        "submissionoof = pd.DataFrame(index=test.index,columns=['Order No','Time from Pickup to Arrival'])\n",
        "submissionoof['Order No'] = test['Order No']\n",
        "submissionoof['Time from Pickup to Arrival'] = (oof_test/10)*0.00+(oof_test_2/10)*0.9+(oof_test_3/10)*0.1 + (oof_test_4/10)*0.00"
      ],
      "execution_count": 0,
      "outputs": []
    },
    {
      "cell_type": "code",
      "metadata": {
        "colab_type": "code",
        "id": "1Mzj-MaGu4JI",
        "colab": {}
      },
      "source": [
        "plt.figure(figsize=(15,8))\n",
        "plt.scatter(train['Time from Pickup to Arrival'],oof_train_2+oof_train+oof_train_3+oof_train_4)"
      ],
      "execution_count": 0,
      "outputs": []
    },
    {
      "cell_type": "code",
      "metadata": {
        "colab_type": "code",
        "id": "WO_TIhF6u4JK",
        "colab": {}
      },
      "source": [
        "cvcv=pd.DataFrame(columns=['Order No','Time from Pickup to Arrival'])\n",
        "cvcv['Time from Pickup to Arrival'] =  oof_train*0.1+oof_train_2*0.7+ oof_train_3*0.1+ oof_train_4*0.1\n",
        "print(np.sqrt(mean_squared_error(y, cvcv['Time from Pickup to Arrival'])))"
      ],
      "execution_count": 0,
      "outputs": []
    },
    {
      "cell_type": "code",
      "metadata": {
        "colab_type": "code",
        "id": "TyIr0WmUu4JM",
        "colab": {}
      },
      "source": [
        "train[(train.index.isin(cvcv.loc[cvcv['Time from Pickup to Arrival']<=1].index))]"
      ],
      "execution_count": 0,
      "outputs": []
    },
    {
      "cell_type": "code",
      "metadata": {
        "colab_type": "code",
        "id": "XOf6jWvWu4JO",
        "colab": {}
      },
      "source": [
        "cvcv.loc[cvcv['Time from Pickup to Arrival']<=1]"
      ],
      "execution_count": 0,
      "outputs": []
    },
    {
      "cell_type": "code",
      "metadata": {
        "colab_type": "code",
        "id": "F6SqcXuMu4JQ",
        "colab": {}
      },
      "source": [
        "cvcv.loc[cvcv['Time from Pickup to Arrival']<=1,'Time from Pickup to Arrival']=2"
      ],
      "execution_count": 0,
      "outputs": []
    },
    {
      "cell_type": "code",
      "metadata": {
        "colab_type": "code",
        "id": "5CgM9u3Tu4JS",
        "colab": {}
      },
      "source": [
        "print(np.sqrt(mean_squared_error(y, cvcv['Time from Pickup to Arrival'])))"
      ],
      "execution_count": 0,
      "outputs": []
    },
    {
      "cell_type": "code",
      "metadata": {
        "colab_type": "code",
        "id": "NybF538gu4JU",
        "colab": {}
      },
      "source": [
        "submissionoof[submissionoof['Time from Pickup to Arrival']>4400]"
      ],
      "execution_count": 0,
      "outputs": []
    },
    {
      "cell_type": "code",
      "metadata": {
        "colab_type": "code",
        "id": "7u46Bl-3u4JV",
        "colab": {}
      },
      "source": [
        "submissionoof.loc[submissionoof['Time from Pickup to Arrival']<=1,'Time from Pickup to Arrival']=1"
      ],
      "execution_count": 0,
      "outputs": []
    },
    {
      "cell_type": "code",
      "metadata": {
        "colab_type": "code",
        "id": "Nwv4dESsu4JX",
        "colab": {}
      },
      "source": [
        "submissionoof.to_csv('drive/My Drive/Submission.csv',index=False)"
      ],
      "execution_count": 0,
      "outputs": []
    },
    {
      "cell_type": "code",
      "metadata": {
        "colab_type": "code",
        "id": "LGqVAgwPu4JZ",
        "colab": {}
      },
      "source": [
        "import matplotlib.pyplot as plt\n",
        "import pandas as pd\n",
        "%matplotlib inline\n",
        "import seaborn as sns\n",
        "\n",
        "\n",
        "\n",
        "corrmat = X.corr()\n",
        "top_corr_features = corrmat.index\n",
        "plt.figure(figsize=(250,250))\n",
        "#plot heat map\n",
        "g=sns.heatmap(X[top_corr_features].corr(),annot=True,cmap=\"RdYlGn\")"
      ],
      "execution_count": 0,
      "outputs": []
    }
  ]
}